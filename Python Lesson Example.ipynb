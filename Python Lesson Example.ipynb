{
 "cells": [
  {
   "cell_type": "markdown",
   "metadata": {},
   "source": [
    "#The Linear Transport Equation"
   ]
  },
  {
   "cell_type": "markdown",
   "metadata": {},
   "source": [
    "This example breaks down the components of an important mathematical model and several discretization concepts. See course lectures 1 & 2 for more background information."
   ]
  },
  {
   "cell_type": "markdown",
   "metadata": {},
   "source": [
    "#Required Modules"
   ]
  },
  {
   "cell_type": "markdown",
   "metadata": {},
   "source": [
    "These are common Python modules that are necessary to run this code and most code moving forward. You will become familiar with them."
   ]
  },
  {
   "cell_type": "code",
   "execution_count": 1,
   "metadata": {},
   "outputs": [],
   "source": [
    "%matplotlib inline\n",
    "import numpy as np\n",
    "from matplotlib import pyplot as plt\n",
    "import time"
   ]
  },
  {
   "cell_type": "markdown",
   "metadata": {},
   "source": [
    "These lines of code declare constants and variables that we will reference in the algorithm further below."
   ]
  },
  {
   "cell_type": "code",
   "execution_count": 2,
   "metadata": {},
   "outputs": [],
   "source": [
    "xl = 2             # x length\n",
    "nx = 600           # number of grid points\n",
    "dx = xl/(nx-1)     # x stepsize\n",
    "nt = 350           # number of timesteps\n",
    "dt = 0.0025        # time stepsize\n",
    "c = 1              # wave speed\n",
    "g = .01            # gaussian variance parameter (peak width)"
   ]
  },
  {
   "cell_type": "markdown",
   "metadata": {},
   "source": [
    "The following line utilizes numpy to generate an array of x-values that go from 0 to xl using nx points that will act as our computational domain, which is sometimes called a grid."
   ]
  },
  {
   "cell_type": "code",
   "execution_count": 3,
   "metadata": {},
   "outputs": [],
   "source": [
    "x = np.linspace(0,xl,nx)      # x grid "
   ]
  },
  {
   "cell_type": "markdown",
   "metadata": {},
   "source": [
    "Theta as defined below is an important parameter used in defining our initial condition (IC) for our numerical model."
   ]
  },
  {
   "cell_type": "code",
   "execution_count": 4,
   "metadata": {},
   "outputs": [],
   "source": [
    "theta = x/(0.5*xl)     # gaussian mean parameter (peak position)"
   ]
  },
  {
   "cell_type": "markdown",
   "metadata": {},
   "source": [
    "Additionally, the CFL condition is used to describe the numerical stability of the model with respect to the wave speed c and the numerical step-sizes for time and space, dt and dx."
   ]
  },
  {
   "cell_type": "code",
   "execution_count": 5,
   "metadata": {},
   "outputs": [],
   "source": [
    "cfl = round(c*dt/dx,2)     # cfl condition 2 decimal places"
   ]
  },
  {
   "cell_type": "markdown",
   "metadata": {},
   "source": [
    "We can include a simple if statement that notifies us of our standing with the CFL condition before we start solving. Take note of the % syntax here used to insert a variable into a sentence comprised of strings, there are also other ways to do this that will be covered later on."
   ]
  },
  {
   "cell_type": "code",
   "execution_count": 6,
   "metadata": {},
   "outputs": [
    {
     "name": "stdout",
     "output_type": "stream",
     "text": [
      "CFL = 0.75\n"
     ]
    }
   ],
   "source": [
    "if cfl >= 1:\n",
    "    print('Hold your horses! The CFL is %s, which is over 1' %(cfl))\n",
    "else:\n",
    "    print('CFL = %s' %(cfl))"
   ]
  },
  {
   "cell_type": "markdown",
   "metadata": {},
   "source": [
    "Finally, the last step before starting the solution algorithm is to generate some solution placeholder arrays along with our initial condition, which is a gaussian pulse as plotted below using matplotlib."
   ]
  },
  {
   "cell_type": "code",
   "execution_count": 11,
   "metadata": {},
   "outputs": [
    {
     "data": {
      "image/png": "[encoded data removed]",
      "text/plain": [
       "<Figure size 432x288 with 1 Axes>"
      ]
     },
     "metadata": {
      "needs_background": "light"
     },
     "output_type": "display_data"
    }
   ],
   "source": [
    "u = np.ones(nx)                                             # initializing solution array\n",
    "un = np.ones(nx)                                            # initializing temporary solution array\n",
    "u = (1/(2*np.sqrt(np.pi*(g))))*np.exp(-(1-theta)**2/(4*g))  # initial condition (IC) as a gaussian\n",
    "plt.plot(x,u)                                               # plots IC\n",
    "u_init = u.copy()                                           # stores initial condition"
   ]
  },
  {
   "cell_type": "markdown",
   "metadata": {},
   "source": [
    "We can also spruce up this plot with some axis titles, and a legend."
   ]
  },
  {
   "cell_type": "code",
   "execution_count": 8,
   "metadata": {},
   "outputs": [
    {
     "data": {
      "text/plain": [
       "<matplotlib.legend.Legend at 0x223a3c85eb0>"
      ]
     },
     "execution_count": 8,
     "metadata": {},
     "output_type": "execute_result"
    },
    {
     "data": {
      "image/png": "[encoded data removed]",
      "text/plain": [
       "<Figure size 432x288 with 1 Axes>"
      ]
     },
     "metadata": {
      "needs_background": "light"
     },
     "output_type": "display_data"
    }
   ],
   "source": [
    "plt.plot(x,u,label='t = 0')\n",
    "plt.xlabel('x grid')\n",
    "plt.ylabel('peak height')\n",
    "plt.legend()"
   ]
  },
  {
   "cell_type": "markdown",
   "metadata": {},
   "source": [
    "It can be helpful to know how long it takes for a solver to run for multiple reasons, such as comparing convergence criteria, time-steps, or discretization methods. So we declare a variable that records the time before we start solving, which is directly below.\n",
    "\n",
    "The discretization scheme here used is the Backward Discretization Scheme in space (often called the Upwind Discretization Scheme) and the Explicit (Forward) Euler's Method. In this first example we use nested for-loops - one for the spatial steps, and an outer loop for the time steps.\n",
    "\n",
    "The boundary conditions applied are periodic BCs, simply meaning that this wave will keep on going through the right, and back into scene from the left."
   ]
  },
  {
   "cell_type": "code",
   "execution_count": 14,
   "metadata": {},
   "outputs": [
    {
     "name": "stdout",
     "output_type": "stream",
     "text": [
      "0.5625\n"
     ]
    }
   ],
   "source": [
    "start = time.process_time()\n",
    "for n in range(nt):\n",
    "    un = u.copy()\n",
    "    for i in range(1,nx-1):\n",
    "        u[i] = un[i] - c*dt/(dx)*(un[i]-un[i-1])\n",
    "        # periodic BC's\n",
    "        u[0] = u[nx-2] \n",
    "        u[nx-1] = u[1]\n",
    "        \n",
    "end = time.process_time()\n",
    "print(end-start)"
   ]
  },
  {
   "cell_type": "markdown",
   "metadata": {},
   "source": [
    "As shown, this method took less than a second to solve with the \"default\" settings applied, however for more complex and larger systems, this is not the case. We can use the defintion of nt and dt to calculate how long this wave traveled for, and plot it below."
   ]
  },
  {
   "cell_type": "code",
   "execution_count": 15,
   "metadata": {},
   "outputs": [
    {
     "data": {
      "text/plain": [
       "<matplotlib.legend.Legend at 0x223a4e39d00>"
      ]
     },
     "execution_count": 15,
     "metadata": {},
     "output_type": "execute_result"
    },
    {
     "data": {
      "image/png": "[encoded data removed]",
      "text/plain": [
       "<Figure size 432x288 with 1 Axes>"
      ]
     },
     "metadata": {
      "needs_background": "light"
     },
     "output_type": "display_data"
    }
   ],
   "source": [
    "t = nt*dt\n",
    "plt.plot(x,u_init,label='t = 0')\n",
    "plt.plot(x,u,label='t = %s'%(t))\n",
    "plt.xlabel('x grid')\n",
    "plt.ylabel('peak height')\n",
    "plt.legend()"
   ]
  },
  {
   "cell_type": "markdown",
   "metadata": {},
   "source": [
    "You can see the effect of the periodic BCs as the wave has exited stage right and started to smoothly re-enter from the left."
   ]
  }
 ],
 "metadata": {
  "kernelspec": {
   "display_name": "Python 3",
   "language": "python",
   "name": "python3"
  },
  "language_info": {
   "codemirror_mode": {
    "name": "ipython",
    "version": 3
   },
   "file_extension": ".py",
   "mimetype": "text/x-python",
   "name": "python",
   "nbconvert_exporter": "python",
   "pygments_lexer": "ipython3",
   "version": "3.8.5"
  }
 },
 "nbformat": 4,
 "nbformat_minor": 4
}
